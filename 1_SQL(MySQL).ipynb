{
 "cells": [
  {
   "cell_type": "markdown",
   "id": "5faf8009",
   "metadata": {},
   "source": [
    "## To view Databases"
   ]
  },
  {
   "cell_type": "raw",
   "id": "d593b0d3",
   "metadata": {},
   "source": [
    "show databases;"
   ]
  },
  {
   "cell_type": "raw",
   "id": "7bc4cf26",
   "metadata": {},
   "source": [
    "+--------------------+\n",
    "| Database           |\n",
    "+--------------------+\n",
    "| information_schema |\n",
    "| mysql              |\n",
    "| performance_schema |\n",
    "| sakila             |\n",
    "| sys                |\n",
    "| world              |\n",
    "+--------------------+"
   ]
  },
  {
   "cell_type": "markdown",
   "id": "bd24fbc3",
   "metadata": {},
   "source": [
    "Note:\n",
    "By default, it depends on the operating system and its case sensitivity. This means MySQL is case-insensitive in Windows and macOS, while it is case-sensitive in most Linux systems."
   ]
  },
  {
   "cell_type": "markdown",
   "id": "79a393fb",
   "metadata": {},
   "source": [
    "## To create DataBase"
   ]
  },
  {
   "cell_type": "raw",
   "id": "c6a99afb",
   "metadata": {},
   "source": [
    "create database <database name>"
   ]
  },
  {
   "cell_type": "raw",
   "id": "b9a20265",
   "metadata": {},
   "source": [
    "Query OK, 1 row affected (0.00 sec)"
   ]
  },
  {
   "cell_type": "markdown",
   "id": "460379b7",
   "metadata": {},
   "source": [
    "## To view current Databases"
   ]
  },
  {
   "cell_type": "raw",
   "id": "57994f26",
   "metadata": {},
   "source": [
    "SELECT DATABASE() FROM DUAL;"
   ]
  },
  {
   "cell_type": "raw",
   "id": "faa42b00",
   "metadata": {},
   "source": [
    "+------------+\n",
    "| DATABASE() |\n",
    "+------------+\n",
    "| learning   |\n",
    "+------------+"
   ]
  },
  {
   "cell_type": "code",
   "execution_count": null,
   "id": "8055d97c",
   "metadata": {},
   "outputs": [],
   "source": [
    "create table Customers (\n",
    "    CustomerID int,\n",
    "    CustomerName varchar(50),\n",
    "    ContactName varchar(50),\n",
    "    Address varchar(50),\n",
    "    City varchar(50),\n",
    "    PostalCode varchar(50),\n",
    "    Country varchar(50))\n",
    "    "
   ]
  },
  {
   "cell_type": "code",
   "execution_count": null,
   "id": "b6cf5359",
   "metadata": {},
   "outputs": [],
   "source": [
    "insert into Customers (CustomerID,CustomerName,ContactName,Address,City,PostalCode,Country) Values \n",
    "(1,'Alfreds Futterkiste','Maria Anders','Obere Str. 57','Berlin','12209','Germany');"
   ]
  },
  {
   "cell_type": "code",
   "execution_count": null,
   "id": "467e07c8",
   "metadata": {},
   "outputs": [],
   "source": [
    "insert into Customers (CustomerID,CustomerName,ContactName,Address,City,PostalCode,Country) Values \n",
    "(2,'Ana Trujillo Emparedados y helados','Ana Trujillo','Avda. de la Constitución 2222','México D.F.','05021','Mexico'),\n",
    "(3,'Antonio Moreno Taquería','Antonio Moreno','Mataderos 2312','México D.F.','05023','Mexico'),\n",
    "(4,'Around the Horn','Thomas Hardy','120 Hanover Sq.','London','WA1 1DP','UK'),\n",
    "(5,'Berglunds snabbköp','Christina Berglund','Berguvsvägen 8','Luleå','S-958 22','Sweden');"
   ]
  },
  {
   "cell_type": "raw",
   "id": "6b2cedad",
   "metadata": {},
   "source": [
    "Symbol\tDescription\t                        Example\n",
    "%\t    Represents zero or more characters\tbl% finds bl, black, blue, and blob\n",
    "_\t    Represents a single character\t    h_t finds hot, hat, and hit"
   ]
  },
  {
   "cell_type": "raw",
   "id": "08270f85",
   "metadata": {},
   "source": [
    "LIKE Operator\t                         Description\n",
    "WHERE CustomerName LIKE 'a%'\tFinds any values that start with \"a\"\n",
    "WHERE CustomerName LIKE '%a'\tFinds any values that end with \"a\"\n",
    "WHERE CustomerName LIKE '%or%'\tFinds any values that have \"or\" in any position\n",
    "WHERE CustomerName LIKE '_r%'\tFinds any values that have \"r\" in the second position\n",
    "WHERE CustomerName LIKE 'a_%'\tFinds any values that start with \"a\" and are at least 2 characters in length\n",
    "WHERE CustomerName LIKE 'a__%'\tFinds any values that start with \"a\" and are at least 3 characters in length\n",
    "WHERE ContactName LIKE 'a%o'\tFinds any values that start with \"a\" and ends with \"o\""
   ]
  },
  {
   "cell_type": "raw",
   "id": "9dcd23cb",
   "metadata": {},
   "source": [
    "Supported Types of Joins in MySQL\n",
    "INNER JOIN: Returns records that have matching values in both tables\n",
    "LEFT JOIN: Returns all records from the left table, and the matched records from the right table\n",
    "RIGHT JOIN: Returns all records from the right table, and the matched records from the left table\n",
    "CROSS JOIN: Returns all records from both tables\n",
    "MySQL INNER JOIN  MySQL LEFT JOIN  MySQL RIGHT JOIN  MySQL CROSS JOIN"
   ]
  },
  {
   "cell_type": "code",
   "execution_count": null,
   "id": "05bc9951",
   "metadata": {},
   "outputs": [],
   "source": [
    "UNION column count and data type must be same removes duplicates\n",
    "UNION all same as UNION but retails duplicates"
   ]
  },
  {
   "cell_type": "markdown",
   "id": "72c9d994",
   "metadata": {},
   "source": [
    "Melwin remember on delete cascade"
   ]
  },
  {
   "cell_type": "markdown",
   "id": "a3fc49b0",
   "metadata": {},
   "source": [
    "ON DELETE CASCADE constraint is used in MySQL to delete the rows from the child table automatically, when the rows from the parent table are deleted. For example when a student registers in an online learning platform, then all the details of the student are recorded with their unique number/id."
   ]
  },
  {
   "cell_type": "markdown",
   "id": "9879d644",
   "metadata": {},
   "source": [
    "https://www.geeksforgeeks.org/mysql-on-delete-cascade-constraint/"
   ]
  },
  {
   "cell_type": "markdown",
   "id": "9dea6f96",
   "metadata": {},
   "source": [
    "## Connect to MYsql data base"
   ]
  },
  {
   "cell_type": "code",
   "execution_count": null,
   "id": "28f80ea2",
   "metadata": {},
   "outputs": [],
   "source": [
    "import os\n",
    "import pymysql\n",
    "import pandas as pd\n",
    "\n",
    "host = os.getenv('MYSQL_HOST')\n",
    "port = os.getenv('MYSQL_PORT')\n",
    "user = os.getenv('MYSQL_USER')\n",
    "password = os.getenv('MYSQL_PASSWORD')\n",
    "database = os.getenv('MYSQL_DATABASE')\n",
    "\n",
    "conn = pymysql.connect(\n",
    "    host=host,\n",
    "    port=int(3306),\n",
    "    user=\"root\",\n",
    "    passwd=password,\n",
    "    db=\"learning\",\n",
    "    charset='utf8mb4')\n",
    "\n",
    "df = pd.read_sql_query(\"SELECT * FROM YOUR_TABLE\",conn)\n",
    "df.tail(10)"
   ]
  }
 ],
 "metadata": {
  "kernelspec": {
   "display_name": "Python 3 (ipykernel)",
   "language": "python",
   "name": "python3"
  },
  "language_info": {
   "codemirror_mode": {
    "name": "ipython",
    "version": 3
   },
   "file_extension": ".py",
   "mimetype": "text/x-python",
   "name": "python",
   "nbconvert_exporter": "python",
   "pygments_lexer": "ipython3",
   "version": "3.10.6"
  }
 },
 "nbformat": 4,
 "nbformat_minor": 5
}
