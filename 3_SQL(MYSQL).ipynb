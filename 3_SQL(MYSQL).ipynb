{
 "cells": [
  {
   "cell_type": "markdown",
   "id": "14733212",
   "metadata": {},
   "source": [
    "## 1) Write an SQL query to find all dates, temp, Id with higher temperatures compared to its previous dates (yesterday).\n",
    "<pre>\n",
    "Input:\t\t\n",
    "ID\tRECORD_DATE\tTEMEPERATURE\n",
    "1\t01-01-2015\t10\n",
    "2\t02-01-2015\t25\n",
    "3\t03-01-2015\t20\n",
    "4\t04-01-2015\t30\n",
    "\t\t\n",
    "Output:\t\t\n",
    "ID\tRECORD_DATE\tTEMEPERATURE\n",
    "2\t02-01-2015\t25\n",
    "4\t04-01-2015\t30\n",
    "</pre>\n",
    "\n",
    "## 2) List the jobs unique to department 20?\n",
    "## 3) List the employees belonging to the department of ‘MILLER’?\n",
    "## 4) List all the employees who have the same job as ‘SCOTT’?"
   ]
  },
  {
   "cell_type": "code",
   "execution_count": null,
   "id": "edd7a88c",
   "metadata": {},
   "outputs": [],
   "source": []
  },
  {
   "cell_type": "markdown",
   "id": "584a8f31",
   "metadata": {},
   "source": [
    "<pre>\n",
    "## 1) Write an SQL query to find all dates, temp, Id with higher temperatures compared to its previous dates (yesterday).\n",
    "Input:        \n",
    "+------+-------------+-------------+\n",
    "| id   | record_date | temperature |\n",
    "+------+-------------+-------------+\n",
    "|    1 | 2015-01-01  |          10 |\n",
    "|    2 | 2015-01-02  |          25 |\n",
    "|    3 | 2015-01-03  |          20 |\n",
    "|    4 | 2015-01-04  |          30 |\n",
    "+------+-------------+-------------+\n",
    "\n",
    "Output:        \n",
    "+------+-------------+-------------+\n",
    "| id   | record_date | temperature |\n",
    "+------+-------------+-------------+\n",
    "|    2 | 2015-01-02  |          25 |\n",
    "|    4 | 2015-01-04  |          30 |\n",
    "+------+-------------+-------------+\n",
    "\n",
    "mysql> Create Table table_1qa2(\n",
    "    -> id int,\n",
    "    -> record_date date,\n",
    "    -> temperature int\n",
    "    -> );\n",
    "Query OK, 0 rows affected (0.02 sec)\n",
    "\n",
    "mysql> insert into table_1qa2 (id,record_date,temperature) values (1,'2015-01-01',10),(2,'2015-01-02',25),(3,'2015-01-03',20),(4,'2015-01-04',30);\n",
    "Query OK, 4 rows affected (0.00 sec)\n",
    "\n",
    "mysql> select t2.id,t2.record_date,t2.temperature from table_1qa2 t1, table_1qa2 t2\n",
    "    ->     where t2.id = 1+t1.id and\n",
    "    ->     t2.temperature > t1.temperature;\n",
    "+------+-------------+-------------+\n",
    "| id   | record_date | temperature |\n",
    "+------+-------------+-------------+\n",
    "|    2 | 2015-01-02  |          25 |\n",
    "|    4 | 2015-01-04  |          30 |\n",
    "+------+-------------+-------------+\n",
    "</pre>"
   ]
  },
  {
   "cell_type": "code",
   "execution_count": null,
   "id": "551f6e3e",
   "metadata": {},
   "outputs": [],
   "source": []
  }
 ],
 "metadata": {
  "kernelspec": {
   "display_name": "Python 3 (ipykernel)",
   "language": "python",
   "name": "python3"
  },
  "language_info": {
   "codemirror_mode": {
    "name": "ipython",
    "version": 3
   },
   "file_extension": ".py",
   "mimetype": "text/x-python",
   "name": "python",
   "nbconvert_exporter": "python",
   "pygments_lexer": "ipython3",
   "version": "3.10.6"
  }
 },
 "nbformat": 4,
 "nbformat_minor": 5
}
