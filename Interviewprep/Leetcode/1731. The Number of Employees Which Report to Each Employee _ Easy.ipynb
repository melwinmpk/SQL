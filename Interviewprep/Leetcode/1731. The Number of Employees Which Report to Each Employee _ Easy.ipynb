{
 "cells": [
  {
   "cell_type": "code",
   "execution_count": null,
   "id": "f6a0d2e0",
   "metadata": {},
   "outputs": [],
   "source": [
    "'''\n",
    "Table: Employees\n",
    "\n",
    "+-------------+----------+\n",
    "| Column Name | Type     |\n",
    "+-------------+----------+\n",
    "| employee_id | int      |\n",
    "| name        | varchar  |\n",
    "| reports_to  | int      |\n",
    "| age         | int      |\n",
    "+-------------+----------+\n",
    "employee_id is the column with unique values for this table.\n",
    "This table contains information about the employees and the id of the manager they report to. \n",
    "Some employees do not report to anyone (reports_to is null). \n",
    " \n",
    "\n",
    "For this problem, we will consider a manager an employee who has at least 1 other employee \n",
    "reporting to them.\n",
    "\n",
    "Write a solution to report the ids and the names of all managers, the number of employees \n",
    "who report directly to them, and the average age of the reports rounded to the nearest integer.\n",
    "\n",
    "Return the result table ordered by employee_id.\n",
    "\n",
    "The result format is in the following example.\n",
    "\n",
    " \n",
    "\n",
    "Example 1:\n",
    "\n",
    "Input: \n",
    "Employees table:\n",
    "+-------------+---------+------------+-----+\n",
    "| employee_id | name    | reports_to | age |\n",
    "+-------------+---------+------------+-----+\n",
    "| 9           | Hercy   | null       | 43  |\n",
    "| 6           | Alice   | 9          | 41  |\n",
    "| 4           | Bob     | 9          | 36  |\n",
    "| 2           | Winston | null       | 37  |\n",
    "+-------------+---------+------------+-----+\n",
    "Output: \n",
    "+-------------+-------+---------------+-------------+\n",
    "| employee_id | name  | reports_count | average_age |\n",
    "+-------------+-------+---------------+-------------+\n",
    "| 9           | Hercy | 2             | 39          |\n",
    "+-------------+-------+---------------+-------------+\n",
    "Explanation: Hercy has 2 people report directly to him, Alice and Bob. \n",
    "Their average age is (41+36)/2 = 38.5, which is 39 after rounding it to the nearest integer.\n",
    "'''"
   ]
  },
  {
   "cell_type": "markdown",
   "id": "66152997",
   "metadata": {},
   "source": [
    "<pre>\n",
    "# Write your MySQL query statement below\n",
    "\n",
    "SELECT t1.employee_id\n",
    "\t,t1.name\n",
    "\t,count(t2.employee_id) AS reports_count\n",
    "\t,round(AVG(t2.age)) AS average_age\n",
    "FROM Employees t1\n",
    "INNER JOIN Employees t2 ON t1.employee_id = t2.reports_to\n",
    "GROUP BY t1.employee_id\n",
    "ORDER BY t1.employee_id;\n",
    "</pre>"
   ]
  },
  {
   "cell_type": "code",
   "execution_count": null,
   "id": "9724604b",
   "metadata": {},
   "outputs": [],
   "source": []
  }
 ],
 "metadata": {
  "kernelspec": {
   "display_name": "Python 3 (ipykernel)",
   "language": "python",
   "name": "python3"
  },
  "language_info": {
   "codemirror_mode": {
    "name": "ipython",
    "version": 3
   },
   "file_extension": ".py",
   "mimetype": "text/x-python",
   "name": "python",
   "nbconvert_exporter": "python",
   "pygments_lexer": "ipython3",
   "version": "3.10.6"
  }
 },
 "nbformat": 4,
 "nbformat_minor": 5
}
