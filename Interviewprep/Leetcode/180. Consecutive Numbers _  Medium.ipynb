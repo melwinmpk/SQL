{
 "cells": [
  {
   "cell_type": "code",
   "execution_count": null,
   "id": "8bd511d6",
   "metadata": {},
   "outputs": [],
   "source": [
    "'''\n",
    "Table: Logs\n",
    "\n",
    "+-------------+---------+\n",
    "| Column Name | Type    |\n",
    "+-------------+---------+\n",
    "| id          | int     |\n",
    "| num         | varchar |\n",
    "+-------------+---------+\n",
    "In SQL, id is the primary key for this table.\n",
    "id is an autoincrement column.\n",
    " \n",
    "\n",
    "Find all numbers that appear at least three times consecutively.\n",
    "\n",
    "Return the result table in any order.\n",
    "\n",
    "The result format is in the following example.\n",
    "\n",
    " \n",
    "\n",
    "Example 1:\n",
    "\n",
    "Input: \n",
    "Logs table:\n",
    "+----+-----+\n",
    "| id | num |\n",
    "+----+-----+\n",
    "| 1  | 1   |\n",
    "| 2  | 1   |\n",
    "| 3  | 1   |\n",
    "| 4  | 2   |\n",
    "| 5  | 1   |\n",
    "| 6  | 2   |\n",
    "| 7  | 2   |\n",
    "+----+-----+\n",
    "Output: \n",
    "+-----------------+\n",
    "| ConsecutiveNums |\n",
    "+-----------------+\n",
    "| 1               |\n",
    "+-----------------+\n",
    "Explanation: 1 is the only number that appears consecutively for at least three times.\n",
    "'''"
   ]
  },
  {
   "cell_type": "markdown",
   "id": "850e8f1d",
   "metadata": {},
   "source": [
    "<pre>\n",
    "\n",
    "# Write your MySQL query statement below\n",
    "WITH TEMP AS (\n",
    "\t\tSELECT id\n",
    "\t\t\t,num\n",
    "\t\t\t,LAG(num, 1, NULL) OVER (\n",
    "\t\t\t\tORDER BY id\n",
    "\t\t\t\t) AS num_1\n",
    "\t\t\t,LAG(num, 2, NULL) OVER (\n",
    "\t\t\t\tORDER BY id\n",
    "\t\t\t\t) AS num_2\n",
    "\t\tFROM Logs\n",
    "\t\t)\n",
    "\n",
    "SELECT DISTINCT num AS ConsecutiveNums\n",
    "FROM TEMP\n",
    "WHERE num = num_1\n",
    "\tAND num = num_2;\n",
    "</pre>    "
   ]
  },
  {
   "cell_type": "code",
   "execution_count": null,
   "id": "3be63a5c",
   "metadata": {},
   "outputs": [],
   "source": []
  }
 ],
 "metadata": {
  "kernelspec": {
   "display_name": "Python 3 (ipykernel)",
   "language": "python",
   "name": "python3"
  },
  "language_info": {
   "codemirror_mode": {
    "name": "ipython",
    "version": 3
   },
   "file_extension": ".py",
   "mimetype": "text/x-python",
   "name": "python",
   "nbconvert_exporter": "python",
   "pygments_lexer": "ipython3",
   "version": "3.10.6"
  }
 },
 "nbformat": 4,
 "nbformat_minor": 5
}
