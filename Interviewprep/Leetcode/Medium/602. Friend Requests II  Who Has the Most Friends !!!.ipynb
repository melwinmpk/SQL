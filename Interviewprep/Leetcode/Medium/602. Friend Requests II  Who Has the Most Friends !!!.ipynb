{
 "cells": [
  {
   "cell_type": "code",
   "execution_count": null,
   "id": "6abc9acd",
   "metadata": {},
   "outputs": [],
   "source": [
    "'''\n",
    "Table: RequestAccepted\n",
    "\n",
    "+----------------+---------+\n",
    "| Column Name    | Type    |\n",
    "+----------------+---------+\n",
    "| requester_id   | int     |\n",
    "| accepter_id    | int     |\n",
    "| accept_date    | date    |\n",
    "+----------------+---------+\n",
    "(requester_id, accepter_id) is the primary key \n",
    "(combination of columns with unique values) for this table.\n",
    "This table contains the ID of the user who sent the request, \n",
    "the ID of the user who received the request, and the date when the request was accepted.\n",
    " \n",
    "\n",
    "Write a solution to find the people who have the most friends and the most friends number.\n",
    "\n",
    "The test cases are generated so that only one person has the most friends.\n",
    "\n",
    "The result format is in the following example.\n",
    "\n",
    " \n",
    "\n",
    "Example 1:\n",
    "\n",
    "Input: \n",
    "RequestAccepted table:\n",
    "+--------------+-------------+-------------+\n",
    "| requester_id | accepter_id | accept_date |\n",
    "+--------------+-------------+-------------+\n",
    "| 1            | 2           | 2016/06/03  |\n",
    "| 1            | 3           | 2016/06/08  |\n",
    "| 2            | 3           | 2016/06/08  |\n",
    "| 3            | 4           | 2016/06/09  |\n",
    "+--------------+-------------+-------------+\n",
    "Output: \n",
    "+----+-----+\n",
    "| id | num |\n",
    "+----+-----+\n",
    "| 3  | 3   |\n",
    "+----+-----+\n",
    "Explanation: \n",
    "The person with id 3 is a friend of people 1, 2, and 4, \n",
    "so he has three friends in total, which is the most number than any others.\n",
    "'''"
   ]
  },
  {
   "cell_type": "markdown",
   "id": "de345e45",
   "metadata": {},
   "source": [
    "<pre>\n",
    "# Write your MySQL query statement below\n",
    "\n",
    "\n",
    "WITH TEMP\n",
    "AS (\n",
    "\tSELECT accepter_id AS id\n",
    "\t\t,count(*) AS friends_count # requested_friends_count\n",
    "\tFROM RequestAccepted\n",
    "\tGROUP BY accepter_id\n",
    "\tUNION ALL\n",
    "\tSELECT requester_id AS id\n",
    "\t\t,count(*) AS friends_count # accepted_friends_count\n",
    "\tFROM RequestAccepted\n",
    "\tGROUP BY requester_id\n",
    "\t)\n",
    "SELECT id\n",
    "\t,sum(friends_count) AS num\n",
    "FROM TEMP\n",
    "GROUP BY id\n",
    "ORDER BY num DESC limit 1;\n",
    "</pre>"
   ]
  },
  {
   "cell_type": "code",
   "execution_count": null,
   "id": "43d89f51",
   "metadata": {},
   "outputs": [],
   "source": []
  }
 ],
 "metadata": {
  "kernelspec": {
   "display_name": "Python 3 (ipykernel)",
   "language": "python",
   "name": "python3"
  },
  "language_info": {
   "codemirror_mode": {
    "name": "ipython",
    "version": 3
   },
   "file_extension": ".py",
   "mimetype": "text/x-python",
   "name": "python",
   "nbconvert_exporter": "python",
   "pygments_lexer": "ipython3",
   "version": "3.10.6"
  }
 },
 "nbformat": 4,
 "nbformat_minor": 5
}
