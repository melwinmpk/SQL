{
 "cells": [
  {
   "cell_type": "code",
   "execution_count": null,
   "id": "2db31c44",
   "metadata": {},
   "outputs": [],
   "source": [
    "'''\n",
    "+--------------+---------+\n",
    "| Column Name  | Type    |\n",
    "+--------------+---------+\n",
    "| player_id    | int     |\n",
    "| device_id    | int     |\n",
    "| event_date   | date    |\n",
    "| games_played | int     |\n",
    "+--------------+---------+\n",
    "(player_id, event_date) is the primary key (combination of columns with unique values) of this table.\n",
    "This table shows the activity of players of some games.\n",
    "Each row is a record of a player who logged in and played a number of games (possibly 0) before logging out on someday \n",
    "using some device.\n",
    " \n",
    "\n",
    "Write a solution to report the fraction of players that logged in again on the day after the day they first logged in, \n",
    "rounded to 2 decimal places. In other words, you need to count the number of players that logged in for at least two \n",
    "consecutive days starting from their first login date, then divide that number by the total number of players.\n",
    "\n",
    "The result format is in the following example.\n",
    "\n",
    " \n",
    "\n",
    "Example 1:\n",
    "\n",
    "Input: \n",
    "Activity table:\n",
    "+-----------+-----------+------------+--------------+\n",
    "| player_id | device_id | event_date | games_played |\n",
    "+-----------+-----------+------------+--------------+\n",
    "| 1         | 2         | 2016-03-01 | 5            |\n",
    "| 1         | 2         | 2016-03-02 | 6            |\n",
    "| 2         | 3         | 2017-06-25 | 1            |\n",
    "| 3         | 1         | 2016-03-02 | 0            |\n",
    "| 3         | 4         | 2018-07-03 | 5            |\n",
    "+-----------+-----------+------------+--------------+\n",
    "Output: \n",
    "+-----------+\n",
    "| fraction  |\n",
    "+-----------+\n",
    "| 0.33      |\n",
    "+-----------+\n",
    "Explanation: \n",
    "Only the player with id 1 logged back in after the first day he had logged in so the answer is 1/3 = 0.33\n",
    "'''"
   ]
  },
  {
   "cell_type": "markdown",
   "id": "82bf1f63",
   "metadata": {},
   "source": [
    "<pre>\n",
    "WITH first_day_data\n",
    "AS (\n",
    "\tSELECT player_id\n",
    "\t\t,min(event_date) AS first_day\n",
    "\tFROM Activity\n",
    "\tGROUP BY player_id\n",
    "\t)\n",
    "SELECT round(count(*) / (\n",
    "\t\t\tSELECT count(DISTINCT player_id)\n",
    "\t\t\tFROM Activity\n",
    "\t\t\t), 2) AS fraction\n",
    "FROM Activity t1\n",
    "INNER JOIN first_day_data t2 ON DATEDIFF(t1.event_date, t2.first_day) = 1\n",
    "\tAND t1.player_id = t2.player_id;\n",
    "</pre>"
   ]
  },
  {
   "cell_type": "code",
   "execution_count": null,
   "id": "72597bc7",
   "metadata": {},
   "outputs": [],
   "source": []
  }
 ],
 "metadata": {
  "kernelspec": {
   "display_name": "Python 3 (ipykernel)",
   "language": "python",
   "name": "python3"
  },
  "language_info": {
   "codemirror_mode": {
    "name": "ipython",
    "version": 3
   },
   "file_extension": ".py",
   "mimetype": "text/x-python",
   "name": "python",
   "nbconvert_exporter": "python",
   "pygments_lexer": "ipython3",
   "version": "3.10.6"
  }
 },
 "nbformat": 4,
 "nbformat_minor": 5
}
