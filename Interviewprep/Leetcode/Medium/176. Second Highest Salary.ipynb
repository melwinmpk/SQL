{
 "cells": [
  {
   "cell_type": "code",
   "execution_count": null,
   "id": "1629d4cf",
   "metadata": {},
   "outputs": [],
   "source": [
    "'''\n",
    "Table: Employee\n",
    "\n",
    "+-------------+------+\n",
    "| Column Name | Type |\n",
    "+-------------+------+\n",
    "| id          | int  |\n",
    "| salary      | int  |\n",
    "+-------------+------+\n",
    "id is the primary key (column with unique values) for this table.\n",
    "Each row of this table contains information about the salary of an employee.\n",
    " \n",
    "\n",
    "Write a solution to find the second highest salary from the Employee table. \n",
    "If there is no second highest salary, return null (return None in Pandas).\n",
    "\n",
    "The result format is in the following example.\n",
    "\n",
    " \n",
    "\n",
    "Example 1:\n",
    "\n",
    "Input: \n",
    "Employee table:\n",
    "+----+--------+\n",
    "| id | salary |\n",
    "+----+--------+\n",
    "| 1  | 100    |\n",
    "| 2  | 200    |\n",
    "| 3  | 300    |\n",
    "+----+--------+\n",
    "Output: \n",
    "+---------------------+\n",
    "| SecondHighestSalary |\n",
    "+---------------------+\n",
    "| 200                 |\n",
    "+---------------------+\n",
    "Example 2:\n",
    "\n",
    "Input: \n",
    "Employee table:\n",
    "+----+--------+\n",
    "| id | salary |\n",
    "+----+--------+\n",
    "| 1  | 100    |\n",
    "+----+--------+\n",
    "Output: \n",
    "+---------------------+\n",
    "| SecondHighestSalary |\n",
    "+---------------------+\n",
    "| null                |\n",
    "+---------------------+\n",
    "'''"
   ]
  },
  {
   "cell_type": "markdown",
   "id": "424e38fd",
   "metadata": {},
   "source": [
    "<pre>\n",
    "# Write your MySQL query statement below\n",
    "\n",
    "SELECT max(salary) AS SecondHighestSalary\n",
    "FROM Employee\n",
    "WHERE salary NOT IN (\n",
    "\t\tSELECT max(salary)\n",
    "\t\tFROM Employee\n",
    "\t\t);\n",
    "</pre>"
   ]
  },
  {
   "cell_type": "markdown",
   "id": "110485ff",
   "metadata": {},
   "source": [
    "## Another solution  OFFSET and LIMIT\n",
    "\n",
    "<pre>\n",
    "# Write your MySQL query statement below\n",
    "\n",
    "SELECT IFNULL((\n",
    "\t\t\tSELECT DISTINCT salary\n",
    "\t\t\tFROM Employee\n",
    "\t\t\tORDER BY salary DESC limit 1,1    # fisr 1 is OFFSET and second 1 is Limit\n",
    "\t\t\t), NULL) AS SecondHighestSalary;\n",
    "</pre>"
   ]
  },
  {
   "cell_type": "code",
   "execution_count": null,
   "id": "c9340c4a",
   "metadata": {},
   "outputs": [],
   "source": []
  }
 ],
 "metadata": {
  "kernelspec": {
   "display_name": "Python 3 (ipykernel)",
   "language": "python",
   "name": "python3"
  },
  "language_info": {
   "codemirror_mode": {
    "name": "ipython",
    "version": 3
   },
   "file_extension": ".py",
   "mimetype": "text/x-python",
   "name": "python",
   "nbconvert_exporter": "python",
   "pygments_lexer": "ipython3",
   "version": "3.10.6"
  }
 },
 "nbformat": 4,
 "nbformat_minor": 5
}
