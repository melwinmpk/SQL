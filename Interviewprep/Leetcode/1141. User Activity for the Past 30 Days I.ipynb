{
 "cells": [
  {
   "cell_type": "code",
   "execution_count": null,
   "id": "58072808",
   "metadata": {},
   "outputs": [],
   "source": [
    "'''\n",
    "Table: Activity\n",
    "\n",
    "+---------------+---------+\n",
    "| Column Name   | Type    |\n",
    "+---------------+---------+\n",
    "| user_id       | int     |\n",
    "| session_id    | int     |\n",
    "| activity_date | date    |\n",
    "| activity_type | enum    |\n",
    "+---------------+---------+\n",
    "This table may have duplicate rows.\n",
    "The activity_type column is an ENUM (category) of type ('open_session', 'end_session', 'scroll_down', 'send_message').\n",
    "The table shows the user activities for a social media website. \n",
    "Note that each session belongs to exactly one user.\n",
    " \n",
    "\n",
    "Write a solution to find the daily active user count for a period of 30 days ending 2019-07-27 inclusively. \n",
    "A user was active on someday if they made at least one activity on that day.\n",
    "\n",
    "Return the result table in any order.\n",
    "\n",
    "The result format is in the following example.\n",
    "\n",
    " \n",
    "\n",
    "Example 1:\n",
    "\n",
    "Input: \n",
    "Activity table:\n",
    "+---------+------------+---------------+---------------+\n",
    "| user_id | session_id | activity_date | activity_type |\n",
    "+---------+------------+---------------+---------------+\n",
    "| 1       | 1          | 2019-07-20    | open_session  |\n",
    "| 1       | 1          | 2019-07-20    | scroll_down   |\n",
    "| 1       | 1          | 2019-07-20    | end_session   |\n",
    "| 2       | 4          | 2019-07-20    | open_session  |\n",
    "| 2       | 4          | 2019-07-21    | send_message  |\n",
    "| 2       | 4          | 2019-07-21    | end_session   |\n",
    "| 3       | 2          | 2019-07-21    | open_session  |\n",
    "| 3       | 2          | 2019-07-21    | send_message  |\n",
    "| 3       | 2          | 2019-07-21    | end_session   |\n",
    "| 4       | 3          | 2019-06-25    | open_session  |\n",
    "| 4       | 3          | 2019-06-25    | end_session   |\n",
    "+---------+------------+---------------+---------------+\n",
    "Output: \n",
    "+------------+--------------+ \n",
    "| day        | active_users |\n",
    "+------------+--------------+ \n",
    "| 2019-07-20 | 2            |\n",
    "| 2019-07-21 | 2            |\n",
    "+------------+--------------+ \n",
    "Explanation: Note that we do not care about days with zero active users.\n",
    "'''"
   ]
  },
  {
   "cell_type": "markdown",
   "id": "bcff91cc",
   "metadata": {},
   "source": [
    "<pre>\n",
    "SELECT activity_date AS Day\n",
    "\t,count(DISTINCT user_id) AS active_users\n",
    "FROM Activity\n",
    "WHERE activity_date BETWEEN ADDDATE('2019-07-27', - 29)\n",
    "\t\tAND '2019-07-27'\n",
    "GROUP BY activity_date;\n",
    "</pre>"
   ]
  },
  {
   "cell_type": "markdown",
   "id": "8c00d098",
   "metadata": {},
   "source": [
    "<b>\n",
    "Melwin Note <br>\n",
    "1) in Mysql server we have DATEADD(interval, number, date)</br>\n",
    "2) in MySQL we have ADDDATE(date, INTERVAL value addunit)</br>\n",
    "</b>"
   ]
  },
  {
   "cell_type": "code",
   "execution_count": null,
   "id": "65418ca0",
   "metadata": {},
   "outputs": [],
   "source": []
  }
 ],
 "metadata": {
  "kernelspec": {
   "display_name": "Python 3 (ipykernel)",
   "language": "python",
   "name": "python3"
  },
  "language_info": {
   "codemirror_mode": {
    "name": "ipython",
    "version": 3
   },
   "file_extension": ".py",
   "mimetype": "text/x-python",
   "name": "python",
   "nbconvert_exporter": "python",
   "pygments_lexer": "ipython3",
   "version": "3.10.6"
  }
 },
 "nbformat": 4,
 "nbformat_minor": 5
}
