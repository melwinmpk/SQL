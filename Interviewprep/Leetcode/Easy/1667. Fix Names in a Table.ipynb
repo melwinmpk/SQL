{
 "cells": [
  {
   "cell_type": "code",
   "execution_count": null,
   "id": "b31ca943",
   "metadata": {},
   "outputs": [],
   "source": [
    "'''\n",
    "Table: Users\n",
    "\n",
    "+----------------+---------+\n",
    "| Column Name    | Type    |\n",
    "+----------------+---------+\n",
    "| user_id        | int     |\n",
    "| name           | varchar |\n",
    "+----------------+---------+\n",
    "user_id is the primary key (column with unique values) for this table.\n",
    "This table contains the ID and the name of the user. \n",
    "The name consists of only lowercase and uppercase characters.\n",
    " \n",
    "\n",
    "Write a solution to fix the names so that only the first character \n",
    "is uppercase and the rest are lowercase.\n",
    "\n",
    "Return the result table ordered by user_id.\n",
    "\n",
    "The result format is in the following example.\n",
    "\n",
    " \n",
    "\n",
    "Example 1:\n",
    "\n",
    "Input: \n",
    "Users table:\n",
    "+---------+-------+\n",
    "| user_id | name  |\n",
    "+---------+-------+\n",
    "| 1       | aLice |\n",
    "| 2       | bOB   |\n",
    "+---------+-------+\n",
    "Output: \n",
    "+---------+-------+\n",
    "| user_id | name  |\n",
    "+---------+-------+\n",
    "| 1       | Alice |\n",
    "| 2       | Bob   |\n",
    "+---------+-------+\n",
    "\n",
    "'''"
   ]
  },
  {
   "cell_type": "markdown",
   "id": "d40b7303",
   "metadata": {},
   "source": [
    "<pre>\n",
    "\n",
    "# Write your MySQL query statement below\n",
    "\n",
    "SELECT user_id\n",
    "\t,CONCAT (\n",
    "\t\tUpper(substring(name, 1, 1))\n",
    "\t\t,lower(substring(name, 2, length(name)))\n",
    "\t\t) AS name\n",
    "FROM Users\n",
    "ORDER BY user_id;\n",
    "\n",
    "</pre>"
   ]
  },
  {
   "cell_type": "code",
   "execution_count": null,
   "id": "3f76414e",
   "metadata": {},
   "outputs": [],
   "source": []
  }
 ],
 "metadata": {
  "kernelspec": {
   "display_name": "Python 3 (ipykernel)",
   "language": "python",
   "name": "python3"
  },
  "language_info": {
   "codemirror_mode": {
    "name": "ipython",
    "version": 3
   },
   "file_extension": ".py",
   "mimetype": "text/x-python",
   "name": "python",
   "nbconvert_exporter": "python",
   "pygments_lexer": "ipython3",
   "version": "3.10.6"
  }
 },
 "nbformat": 4,
 "nbformat_minor": 5
}
