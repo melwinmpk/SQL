{
 "cells": [
  {
   "cell_type": "code",
   "execution_count": null,
   "id": "0d0b2964",
   "metadata": {},
   "outputs": [],
   "source": [
    "'''\n",
    "Table: Triangle\n",
    "\n",
    "+-------------+------+\n",
    "| Column Name | Type |\n",
    "+-------------+------+\n",
    "| x           | int  |\n",
    "| y           | int  |\n",
    "| z           | int  |\n",
    "+-------------+------+\n",
    "In SQL, (x, y, z) is the primary key column for this table.\n",
    "Each row of this table contains the lengths of three line segments.\n",
    " \n",
    "\n",
    "Report for every three line segments whether they can form a triangle.\n",
    "\n",
    "Return the result table in any order.\n",
    "\n",
    "The result format is in the following example.\n",
    "\n",
    " \n",
    "\n",
    "Example 1:\n",
    "\n",
    "Input: \n",
    "Triangle table:\n",
    "+----+----+----+\n",
    "| x  | y  | z  |\n",
    "+----+----+----+\n",
    "| 13 | 15 | 30 |\n",
    "| 10 | 20 | 15 |\n",
    "+----+----+----+\n",
    "Output: \n",
    "+----+----+----+----------+\n",
    "| x  | y  | z  | triangle |\n",
    "+----+----+----+----------+\n",
    "| 13 | 15 | 30 | No       |\n",
    "| 10 | 20 | 15 | Yes      |\n",
    "+----+----+----+----------+\n",
    "'''"
   ]
  },
  {
   "cell_type": "markdown",
   "id": "26acdff4",
   "metadata": {},
   "source": [
    "<pre>\n",
    "# Write your MySQL query statement below\n",
    "\n",
    "SELECT *\n",
    "\t,\n",
    "IF (\n",
    "\t\tx + y > z\n",
    "\t\tAND y + z > x\n",
    "\t\tAND x + z > y\n",
    "\t\t,'Yes'\n",
    "\t\t,'No'\n",
    "\t\t) AS triangle FROM Triangle;\n",
    "</pre>"
   ]
  },
  {
   "cell_type": "markdown",
   "id": "f63c46eb",
   "metadata": {},
   "source": [
    "## Another Approach"
   ]
  },
  {
   "cell_type": "markdown",
   "id": "e5050e56",
   "metadata": {},
   "source": [
    "<pre>\n",
    "# Write your MySQL query statement below\n",
    "\n",
    "SELECT *\n",
    "\t,CASE \n",
    "\t\tWHEN x + y > z\n",
    "\t\t\tAND y + z > x\n",
    "\t\t\tAND x + z > y\n",
    "\t\t\tTHEN 'Yes'\n",
    "\t\tELSE 'No'\n",
    "\t\tEND AS triangle\n",
    "FROM Triangle;\n",
    "</pre>"
   ]
  },
  {
   "cell_type": "code",
   "execution_count": null,
   "id": "05a3039f",
   "metadata": {},
   "outputs": [],
   "source": []
  }
 ],
 "metadata": {
  "kernelspec": {
   "display_name": "Python 3 (ipykernel)",
   "language": "python",
   "name": "python3"
  },
  "language_info": {
   "codemirror_mode": {
    "name": "ipython",
    "version": 3
   },
   "file_extension": ".py",
   "mimetype": "text/x-python",
   "name": "python",
   "nbconvert_exporter": "python",
   "pygments_lexer": "ipython3",
   "version": "3.10.6"
  }
 },
 "nbformat": 4,
 "nbformat_minor": 5
}
