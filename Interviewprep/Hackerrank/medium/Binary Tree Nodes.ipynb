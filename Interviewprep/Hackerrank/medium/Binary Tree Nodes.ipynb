{
 "cells": [
  {
   "cell_type": "markdown",
   "id": "8fdbe354",
   "metadata": {},
   "source": [
    "<p>You are given a table, BST, containing two columns: N and P, where N represents the value of a node in Binary Tree, and P is the parent of N.</p>\n",
    "\n",
    "\n",
    "<img src=\"https://s3.amazonaws.com/hr-challenge-images/12888/1443818507-5095ab9853-1.png\">\n",
    "\n",
    "<p>Write a query to find the node type of Binary Tree ordered by the value of the node. Output one of the following for each node:</p>\n",
    "<ul>\n",
    "<li>Root: If node is root node.</li>\n",
    "<li>Leaf: If node is leaf node.</li>\n",
    "<li>Inner: If node is neither root nor leaf node.</li>\n",
    "\n",
    "</ul>\n",
    "\n",
    "<p>Sample Input</p>\n",
    "<img src=\"https://s3.amazonaws.com/hr-challenge-images/12888/1443818467-30644673f6-2.png\">\n",
    "\n",
    "<p>Sample Output</p>\n",
    "<ul>\n",
    "<li>1 Leaf</li>\n",
    "<li>2 Inner</li>\n",
    "<li>3 Leaf</li>\n",
    "<li>5 Root</li>\n",
    "<li>6 Leaf</li>\n",
    "<li>8 Inner</li>\n",
    "<li>9 Leaf</li>\n",
    "</ul>\n",
    "\n",
    "<p>Explanation</p>\n",
    "\n",
    "<p>The Binary Tree below illustrates the sample:</p>\n",
    "<img src=\"https://s3.amazonaws.com/hr-challenge-images/12888/1443773633-f9e6fd314e-simply_sql_bst.png\">\n"
   ]
  },
  {
   "cell_type": "code",
   "execution_count": null,
   "id": "a08a2259",
   "metadata": {},
   "outputs": [],
   "source": [
    "SELECT N , \n",
    "CASE WHEN P is NULL THEN 'Root'\n",
    "     WHEN N IN (SELECT P from BST) THEN 'Inner'\n",
    "     ELSE 'Leaf'\n",
    "END as Type_of\n",
    "FROM BST\n",
    "ORDER BY N;"
   ]
  }
 ],
 "metadata": {
  "kernelspec": {
   "display_name": "Python 3 (ipykernel)",
   "language": "python",
   "name": "python3"
  },
  "language_info": {
   "codemirror_mode": {
    "name": "ipython",
    "version": 3
   },
   "file_extension": ".py",
   "mimetype": "text/x-python",
   "name": "python",
   "nbconvert_exporter": "python",
   "pygments_lexer": "ipython3",
   "version": "3.10.6"
  }
 },
 "nbformat": 4,
 "nbformat_minor": 5
}
